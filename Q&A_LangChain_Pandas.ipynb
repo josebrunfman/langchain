{
 "cells": [
  {
   "cell_type": "markdown",
   "id": "52b421f2",
   "metadata": {},
   "source": [
    "# Importing required libraries"
   ]
  },
  {
   "cell_type": "code",
   "execution_count": 1,
   "id": "73283a7e",
   "metadata": {},
   "outputs": [],
   "source": [
    "from dotenv import load_dotenv,find_dotenv"
   ]
  },
  {
   "cell_type": "code",
   "execution_count": 2,
   "id": "ad3aeba7",
   "metadata": {},
   "outputs": [],
   "source": [
    "import pandas as pd"
   ]
  },
  {
   "cell_type": "code",
   "execution_count": 3,
   "id": "a83fae6f",
   "metadata": {},
   "outputs": [],
   "source": [
    "from langchain.chat_models import ChatOpenAI"
   ]
  },
  {
   "cell_type": "code",
   "execution_count": 4,
   "id": "246e28bc",
   "metadata": {},
   "outputs": [],
   "source": [
    "from langchain.agents import create_pandas_dataframe_agent"
   ]
  },
  {
   "cell_type": "code",
   "execution_count": 5,
   "id": "75a085ed",
   "metadata": {},
   "outputs": [],
   "source": [
    "import json"
   ]
  },
  {
   "cell_type": "code",
   "execution_count": 27,
   "id": "e5628535",
   "metadata": {},
   "outputs": [],
   "source": [
    "import openai\n",
    "openai.api_type = \"azure\"\n",
    "openai.api_key = \"\" # replace with your key\n",
    "openai.api_base = \"https://{yourendpoint}.openai.azure.com/\" # replace with your api_base\n",
    "openai.api_version = \"2023-03-15-preview\"\n",
    "deployment_id = 'gpt-4'"
   ]
  },
  {
   "cell_type": "markdown",
   "id": "8211330a",
   "metadata": {},
   "source": [
    "# Creating system message for OpenAI Chat Completion API"
   ]
  },
  {
   "cell_type": "markdown",
   "id": "35cea6eb",
   "metadata": {},
   "source": [
    "This will guarantee OpenAI understands the meaning of each column the dataframe I will read later"
   ]
  },
  {
   "cell_type": "code",
   "execution_count": 7,
   "id": "e12ff9e3",
   "metadata": {},
   "outputs": [],
   "source": [
    "system_message = \"\"\"Your name is Pepe and you are a data anaytics engineer. Your domain knowledge is about python, Pandas, and analytics. If you are asked about anything else, you reply \"N/A\". If you do not have enought information, reply \"N/A\" \n",
    "Description of some numeric columns the data frame:\n",
    "\"Unit price\" is the price per unit \n",
    "\"Quantity\" is the number of items purchased \n",
    "\"cogs\" is the product of \"unit price\" and \"Quantity\"\n",
    "\"Tax 5%\" is the tax calculated over the \"cogs\"\n",
    "\"Total\" is the sum of \"cogs\" plus \"Tax 5%\"\n",
    "\"\"\""
   ]
  },
  {
   "cell_type": "markdown",
   "id": "b8f6271e",
   "metadata": {},
   "source": [
    "# Creating an instance of the Langchain chat"
   ]
  },
  {
   "cell_type": "markdown",
   "id": "9a801ec5",
   "metadata": {},
   "source": [
    "This command will pass its parameters to Azure OpenAI gtp-4 model"
   ]
  },
  {
   "cell_type": "code",
   "execution_count": 8,
   "id": "a33f0134",
   "metadata": {
    "scrolled": true
   },
   "outputs": [
    {
     "name": "stderr",
     "output_type": "stream",
     "text": [
      "WARNING! engine is not default parameter.\n",
      "                    engine was transferred to model_kwargs.\n",
      "                    Please confirm that engine is what you intended.\n"
     ]
    }
   ],
   "source": [
    "chat=ChatOpenAI(temperature=0.0,engine=\"gpt-4\")\n",
    "#chat=ChatOpenAI(model_kwargs={\"engine\":\"gpt-4\",\"messages\":{\"role\": \"system\",\"content\": system_message}},temperature=0.0)"
   ]
  },
  {
   "cell_type": "markdown",
   "id": "1e262b4a",
   "metadata": {},
   "source": [
    "# Reading the data from csv"
   ]
  },
  {
   "cell_type": "code",
   "execution_count": 9,
   "id": "a11b0e07",
   "metadata": {},
   "outputs": [],
   "source": [
    "df=pd.read_csv(\"supermarket_sales - Sheet1.csv\")"
   ]
  },
  {
   "cell_type": "markdown",
   "id": "d6792bfa",
   "metadata": {},
   "source": [
    "# Creating an instance of the agent that will answer questions regarding our data frame as data analytics expert"
   ]
  },
  {
   "cell_type": "code",
   "execution_count": 10,
   "id": "3610ed34",
   "metadata": {},
   "outputs": [],
   "source": [
    "agent=create_pandas_dataframe_agent(chat,df,verbose=True,engine=\"gpt-4\",model_kwargs={\"engine\":\"gpt-4\",\"messages\":{\"role\": \"system\",\"content\": system_message}},temperature=0.0)"
   ]
  },
  {
   "cell_type": "markdown",
   "id": "082e9d67",
   "metadata": {},
   "source": [
    "# Ready to start asking analytics questions in natural language"
   ]
  },
  {
   "cell_type": "markdown",
   "id": "a253bb54",
   "metadata": {},
   "source": [
    "As you can see, lanchin is verbose, explaining all the steps required to arrive to the correct answer "
   ]
  },
  {
   "cell_type": "code",
   "execution_count": 11,
   "id": "2908a6d9",
   "metadata": {},
   "outputs": [
    {
     "name": "stdout",
     "output_type": "stream",
     "text": [
      "enter your question i want to know total sales for each city, not including taxes\n"
     ]
    }
   ],
   "source": [
    "question=input(\"enter your question \")"
   ]
  },
  {
   "cell_type": "code",
   "execution_count": null,
   "id": "09a3119a",
   "metadata": {},
   "outputs": [],
   "source": [
    "#prompt=system_message+\"\\n\"+question"
   ]
  },
  {
   "cell_type": "code",
   "execution_count": 14,
   "id": "cffe0571",
   "metadata": {},
   "outputs": [
    {
     "name": "stdout",
     "output_type": "stream",
     "text": [
      "\n",
      "\n",
      "\u001b[1m> Entering new AgentExecutor chain...\u001b[0m\n",
      "\u001b[32;1m\u001b[1;3mThought: To find the total sales for each city without taxes, I need to group the dataframe by the 'City' column and then sum the 'cogs' column for each group.\n",
      "Action: python_repl_ast\n",
      "Action Input: df.groupby('City')['cogs'].sum()\u001b[0m\n",
      "Observation: \u001b[36;1m\u001b[1;3mCity\n",
      "Mandalay     101140.64\n",
      "Naypyitaw    105303.53\n",
      "Yangon       101143.21\n",
      "Name: cogs, dtype: float64\u001b[0m\n",
      "Thought:\u001b[32;1m\u001b[1;3mI now know the total sales for each city, not including taxes.\n",
      "Final Answer: The total sales for each city are as follows: Mandalay - 101140.64, Naypyitaw - 105303.53, and Yangon - 101143.21.\u001b[0m\n",
      "\n",
      "\u001b[1m> Finished chain.\u001b[0m\n"
     ]
    }
   ],
   "source": [
    "answer=agent.run(question)"
   ]
  },
  {
   "cell_type": "code",
   "execution_count": 15,
   "id": "b3845542",
   "metadata": {},
   "outputs": [
    {
     "name": "stdout",
     "output_type": "stream",
     "text": [
      "The total sales for each city are as follows: Mandalay - 101140.64, Naypyitaw - 105303.53, and Yangon - 101143.21.\n"
     ]
    }
   ],
   "source": [
    "print(answer)"
   ]
  },
  {
   "cell_type": "markdown",
   "id": "d891ad7c",
   "metadata": {},
   "source": [
    "Another example"
   ]
  },
  {
   "cell_type": "code",
   "execution_count": 16,
   "id": "a2876145",
   "metadata": {},
   "outputs": [],
   "source": [
    "question=\"show total sales by city and gender\""
   ]
  },
  {
   "cell_type": "code",
   "execution_count": 17,
   "id": "3bc51aad",
   "metadata": {},
   "outputs": [],
   "source": [
    "#prompt=system_message+\"\\n\"+question"
   ]
  },
  {
   "cell_type": "code",
   "execution_count": 18,
   "id": "dc253385",
   "metadata": {},
   "outputs": [
    {
     "name": "stdout",
     "output_type": "stream",
     "text": [
      "\n",
      "\n",
      "\u001b[1m> Entering new AgentExecutor chain...\u001b[0m\n",
      "\u001b[32;1m\u001b[1;3mThought: To show total sales by city and gender, I need to group the dataframe by 'City' and 'Gender' columns and then sum the 'Total' column for each group.\n",
      "Action: python_repl_ast\n",
      "Action Input: df.groupby(['City', 'Gender'])['Total'].sum()\u001b[0m\n",
      "Observation: \u001b[36;1m\u001b[1;3mCity       Gender\n",
      "Mandalay   Female    52928.2950\n",
      "           Male      53269.3770\n",
      "Naypyitaw  Female    61685.4630\n",
      "           Male      48883.2435\n",
      "Yangon     Female    53269.1670\n",
      "           Male      52931.2035\n",
      "Name: Total, dtype: float64\u001b[0m\n",
      "Thought:\u001b[32;1m\u001b[1;3mI now know the total sales by city and gender.\n",
      "Final Answer: \n",
      "Mandalay:\n",
      "- Female: 52928.2950\n",
      "- Male: 53269.3770\n",
      "\n",
      "Naypyitaw:\n",
      "- Female: 61685.4630\n",
      "- Male: 48883.2435\n",
      "\n",
      "Yangon:\n",
      "- Female: 53269.1670\n",
      "- Male: 52931.2035\u001b[0m\n",
      "\n",
      "\u001b[1m> Finished chain.\u001b[0m\n"
     ]
    }
   ],
   "source": [
    "answer=agent.run(question)"
   ]
  },
  {
   "cell_type": "code",
   "execution_count": 19,
   "id": "7cb739fb",
   "metadata": {},
   "outputs": [
    {
     "name": "stdout",
     "output_type": "stream",
     "text": [
      "Mandalay:\n",
      "- Female: 52928.2950\n",
      "- Male: 53269.3770\n",
      "\n",
      "Naypyitaw:\n",
      "- Female: 61685.4630\n",
      "- Male: 48883.2435\n",
      "\n",
      "Yangon:\n",
      "- Female: 53269.1670\n",
      "- Male: 52931.2035\n"
     ]
    }
   ],
   "source": [
    "print(answer)"
   ]
  },
  {
   "cell_type": "markdown",
   "id": "452fa697",
   "metadata": {},
   "source": [
    "# In next example you ask result in a Dictionary format, that can be used later on in your application"
   ]
  },
  {
   "cell_type": "code",
   "execution_count": 20,
   "id": "6d7a9bcd",
   "metadata": {},
   "outputs": [],
   "source": [
    "question=\"create a dictionary with the total sales per city, not including taxes, where the keys are the city name and the value is the total sales of the city\""
   ]
  },
  {
   "cell_type": "code",
   "execution_count": 21,
   "id": "5bb03d6a",
   "metadata": {},
   "outputs": [],
   "source": [
    "#prompt=system_message+\"\\n\"+question"
   ]
  },
  {
   "cell_type": "code",
   "execution_count": 22,
   "id": "14d1b2cf",
   "metadata": {},
   "outputs": [
    {
     "name": "stdout",
     "output_type": "stream",
     "text": [
      "\n",
      "\n",
      "\u001b[1m> Entering new AgentExecutor chain...\u001b[0m\n",
      "\u001b[32;1m\u001b[1;3mThought: To create a dictionary with the total sales per city, I need to group the dataframe by the 'City' column and then sum the 'cogs' column for each city.\n",
      "Action: python_repl_ast\n",
      "Action Input: df.groupby('City')['cogs'].sum()\u001b[0m\n",
      "Observation: \u001b[36;1m\u001b[1;3mCity\n",
      "Mandalay     101140.64\n",
      "Naypyitaw    105303.53\n",
      "Yangon       101143.21\n",
      "Name: cogs, dtype: float64\u001b[0m\n",
      "Thought:\u001b[32;1m\u001b[1;3mI now have the total sales per city, not including taxes. I can create a dictionary with this information.\n",
      "Final Answer: {'Mandalay': 101140.64, 'Naypyitaw': 105303.53, 'Yangon': 101143.21}\u001b[0m\n",
      "\n",
      "\u001b[1m> Finished chain.\u001b[0m\n"
     ]
    }
   ],
   "source": [
    "result=agent.run(question)"
   ]
  },
  {
   "cell_type": "markdown",
   "id": "597180bd",
   "metadata": {},
   "source": [
    "### Transforming result in a Python Dictionary"
   ]
  },
  {
   "cell_type": "code",
   "execution_count": 23,
   "id": "f145e651",
   "metadata": {},
   "outputs": [],
   "source": [
    "result=result.replace(\"'\", \"\\\"\")"
   ]
  },
  {
   "cell_type": "code",
   "execution_count": 24,
   "id": "d917f6bb",
   "metadata": {},
   "outputs": [],
   "source": [
    "result=json.loads(result)"
   ]
  },
  {
   "cell_type": "code",
   "execution_count": 25,
   "id": "42452879",
   "metadata": {},
   "outputs": [
    {
     "data": {
      "text/plain": [
       "dict"
      ]
     },
     "execution_count": 25,
     "metadata": {},
     "output_type": "execute_result"
    }
   ],
   "source": [
    "type(result)"
   ]
  },
  {
   "cell_type": "code",
   "execution_count": 26,
   "id": "ed637d06",
   "metadata": {},
   "outputs": [
    {
     "name": "stdout",
     "output_type": "stream",
     "text": [
      "Mandalay 101140.64\n",
      "Naypyitaw 105303.53\n",
      "Yangon 101143.21\n"
     ]
    }
   ],
   "source": [
    "for city in result:\n",
    "    print(city,result[city])"
   ]
  },
  {
   "cell_type": "markdown",
   "id": "044505fa",
   "metadata": {},
   "source": [
    "### As you can see above, answer is a dictionary that can be further used in the application"
   ]
  },
  {
   "cell_type": "code",
   "execution_count": null,
   "id": "d1162402",
   "metadata": {},
   "outputs": [],
   "source": []
  }
 ],
 "metadata": {
  "kernelspec": {
   "display_name": "Python 3.11.3",
   "language": "python",
   "name": "mientorno"
  },
  "language_info": {
   "codemirror_mode": {
    "name": "ipython",
    "version": 3
   },
   "file_extension": ".py",
   "mimetype": "text/x-python",
   "name": "python",
   "nbconvert_exporter": "python",
   "pygments_lexer": "ipython3",
   "version": "3.11.3"
  }
 },
 "nbformat": 4,
 "nbformat_minor": 5
}
